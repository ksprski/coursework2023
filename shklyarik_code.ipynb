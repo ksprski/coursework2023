{
 "cells": [
  {
   "cell_type": "markdown",
   "id": "3cbfa945-46f2-4fc5-b5f7-1d70c58f3768",
   "metadata": {
    "tags": []
   },
   "source": [
    "# Необходимые функции"
   ]
  },
  {
   "cell_type": "code",
   "execution_count": 1,
   "id": "78a0d75b-f874-40ec-8053-64e6216fcd80",
   "metadata": {},
   "outputs": [],
   "source": [
    "from random import randint\n",
    "from sympy import randprime \n",
    "import time\n",
    "\n",
    "def st(n):\n",
    "    s = 0\n",
    "    t = n\n",
    "    while t % 2 == 0:\n",
    "        s += 1\n",
    "        t = t // 2\n",
    "    return s, t\n",
    "\n",
    "def Jacobi(a,n):\n",
    "    if n < 0 or not n % 2:\n",
    "        raise ValueError(\"n should be an odd positive integer\") \n",
    "    j = 1\n",
    "    if n == 1:\n",
    "        return j\n",
    "    if a<0:\n",
    "        a = -a\n",
    "        if n%4 == 3:\n",
    "            j = -j\n",
    "    while n>1:\n",
    "        if a == 0:\n",
    "            return 0\n",
    "        s,t = st(a)\n",
    "        if (s%2 == 1) & (n%8 in [3, 5]):\n",
    "            j = -j\n",
    "        if 3 == n%4 == t%4:\n",
    "            j = -j\n",
    "        a = n%t\n",
    "        n = t\n",
    "    return j\n",
    "\n",
    "def Shanks(a, p):\n",
    "    if a % p == 0:\n",
    "        return 0\n",
    "    if not Jacobi(a, p) == 1: \n",
    "        return \"no solution\"\n",
    "    s,t = st(p-1)             \n",
    "    n = randint(2,p-2) \n",
    "    while Jacobi(n,p) == 1:   \n",
    "        n = randint(2,p-2)\n",
    "    b = pow(n,t,p)            \n",
    "    r = pow(a,(t+1)//2,p)     \n",
    "    d = 0\n",
    "    f = pow(a,t,p)            \n",
    "    b2 = b\n",
    "    for i in range(1,s):      \n",
    "        b2 = b2*b2 % p        \n",
    "        if not pow(f,2**(s-1-i), p) == 1:  \n",
    "            d += 2**i                   \n",
    "            f = f*b2 % p                 \n",
    "    return r*pow(b,d//2,p) % p          "
   ]
  },
  {
   "cell_type": "code",
   "execution_count": 2,
   "id": "50a5f256-0d85-43f5-83a9-32b415029789",
   "metadata": {},
   "outputs": [],
   "source": [
    "def D(a,b):\n",
    "    return 27*b**2 + 4*a**3"
   ]
  },
  {
   "cell_type": "markdown",
   "id": "63cc6df3-8acf-4e1c-abfb-4ddb3ef7739d",
   "metadata": {
    "tags": []
   },
   "source": [
    "# Аффинные координаты"
   ]
  },
  {
   "cell_type": "markdown",
   "id": "cac74c41-ec3a-41eb-a702-d50943564b82",
   "metadata": {
    "tags": []
   },
   "source": [
    "## Реализация"
   ]
  },
  {
   "cell_type": "code",
   "execution_count": 3,
   "id": "d9165649-983b-4585-a8d5-396e7e047979",
   "metadata": {},
   "outputs": [],
   "source": [
    "class Point:\n",
    "    def __init__(self,x,y, curve):\n",
    "        self.curve = curve\n",
    "        x %= self.curve.p\n",
    "        y %= self.curve.p\n",
    "        if not self.curve.isPoint(x,y):\n",
    "            print(\"Ошибка! Точка не лежит на кривой!\")\n",
    "        else:\n",
    "            self.x = x \n",
    "            self.y = y \n",
    "            \n",
    "    def __eq__(self, other):\n",
    "        if isinstance(other, self.__class__):\n",
    "            return (self.x == other.x) and (self.y == other.y) and (self.curve == other.curve)\n",
    "        else:\n",
    "            return False\n",
    "    \n",
    "    def __repr__(self):\n",
    "        return f\"({self.x}, {self.y})\"\n",
    "    \n",
    "    def __neg__(self):\n",
    "        return Point(self.x, -self.y, self.curve)\n",
    "    \n",
    "    def doubling(self):\n",
    "        y1 = self.y\n",
    "        x1 = self.x\n",
    "        if y1 == 0:\n",
    "            return infPoint(self.curve)\n",
    "        else:\n",
    "            k = (3*(x1*x1 % self.curve.p) + self.curve.a)*pow((2*y1),-1, self.curve.p) % p  \n",
    "            x3 = k*k % self.curve.p - 2*x1            \n",
    "            y3 = k*(x1-x3) - y1        \n",
    "            return Point(x3,y3, self.curve)\n",
    "        \n",
    "    def __add__(self, P):\n",
    "        if isinstance(P, infPoint):\n",
    "            return self\n",
    "        y1 = self.y\n",
    "        x1 = self.x\n",
    "        y2 = P.y\n",
    "        x2 = P.x\n",
    "        if x1 == x2:\n",
    "            if y1 == y2 == 0:\n",
    "                return infPoint(self.curve)\n",
    "            elif y1 != y2:\n",
    "                return infPoint(self.curve)\n",
    "            else:\n",
    "                k = (3*(x1*x1 % self.curve.p) + self.curve.a)*pow((2*y1),-1, self.curve.p) % p  \n",
    "                x3 = k*k % self.curve.p - 2*x1            \n",
    "                y3 = k*(x1-x3) - y1        \n",
    "                return Point(x3,y3, self.curve)\n",
    "        k = (y2-y1)*pow((x2 - x1), -1, self.curve.p) % self.curve.p       \n",
    "        x3 = k*k % self.curve.p - x1- x2                        \n",
    "        y3 = k*(x1-x3) - y1                     \n",
    "        return Point(x3,y3, self.curve)\n",
    "        \n",
    "    def __sub__(self,P):\n",
    "        return self + (-P)\n",
    "    \n",
    "    def __mul__(self, m):\n",
    "        if isinstance(m, int):\n",
    "            if m < 0:\n",
    "                m = -m\n",
    "                self = -self\n",
    "            m = bin(m)[2:]\n",
    "            result = infPoint(self.curve)\n",
    "            Q = self\n",
    "            for i in m[::-1]:\n",
    "                if i == \"1\":\n",
    "                    result = result + Q\n",
    "                Q += Q\n",
    "            return result\n",
    "        else:\n",
    "            return f\"{m} должно быть целым числом\"\n",
    "        \n",
    "    def __rmul__(self,m):\n",
    "        return self*m\n",
    "    \n",
    "    def toProjective(self):\n",
    "        return ProjectivePoint(self.x,self.y,1,self.curve.toProjective())\n",
    "    \n",
    "    def toJacobian(self):\n",
    "        return JacobianPoint(self.x,self.y,1,self.curve.toJacobian())\n",
    "    \n",
    "    def toChudnovskyJacobian(self):\n",
    "        return ChudnovskyJacobianPoint(self.x,self.y,1,1,1,self.curve.toChudnovskyJacobian())"
   ]
  },
  {
   "cell_type": "code",
   "execution_count": 4,
   "id": "cdd013b0-4585-4923-aaad-0b8ea891ba30",
   "metadata": {},
   "outputs": [],
   "source": [
    "class infPoint():\n",
    "    def __init__(self, curve):\n",
    "        self.curve = curve\n",
    "    def __neg__(self):\n",
    "        return self  \n",
    "    def __add__(self, P):\n",
    "        return P\n",
    "    def __sub__(self,P):\n",
    "        return self + (-P)\n",
    "    def __repr__(self):\n",
    "        return \"O\"\n",
    "    def __mul__(self, m):\n",
    "        return self\n",
    "    def __rmul__(self, m):\n",
    "        return self\n",
    "    def toProjective(self):\n",
    "        return ProjectivePoint(0,1,0,self.curve.toProjective())\n",
    "    def toJacobian(self):\n",
    "        return JacobianPoint(1,1,0,self.curve.toJacobian())\n",
    "    def toChudnovskyJacobian(self):\n",
    "        return ChudnovskyJacobianPoint(1,1,0,0,0,self.curve.toChudnovskyJacobian())"
   ]
  },
  {
   "cell_type": "code",
   "execution_count": 5,
   "id": "20049eff-2eb7-4928-a007-302b7cd526c3",
   "metadata": {},
   "outputs": [],
   "source": [
    "class Curve:\n",
    "    def __init__(self,a,b,p):\n",
    "        if D(a,b) % p: \n",
    "            self.a = a % p\n",
    "            self.b = b % p\n",
    "            self.p = p\n",
    "        else:\n",
    "            print(\"Ошибка! Дискриминант кривой нулевой!\")\n",
    "            \n",
    "    def __eq__(self, other):\n",
    "        if isinstance(other, self.__class__):\n",
    "            return (self.a == other.a) and (self.b == other.b) and (self.p == other.p)\n",
    "        else:\n",
    "            return False\n",
    "    \n",
    "    def findPointsShanks(self):\n",
    "        points = []\n",
    "        for x in range(self.p):\n",
    "            a = (pow(x,3,self.p) + self.a*x + self.b) % self.p\n",
    "            y = Shanks(a, self.p)\n",
    "            if isinstance(y, int):\n",
    "                points.append(Point(x,y,self))\n",
    "                if y != ((self.p - y) % self.p):\n",
    "                    points.append(Point(x,-y, self))\n",
    "        points.append(infPoint(self))\n",
    "        return points\n",
    "    \n",
    "    def findRandomPoint(self):\n",
    "        while True:\n",
    "            x = randint(0, self.p - 1)\n",
    "            a = (pow(x,3,self.p) + self.a*x + self.b) % self.p\n",
    "            y = Shanks(a, self.p)\n",
    "            if isinstance(y, int):\n",
    "                return Point(x,y, self)\n",
    "    \n",
    "    def isPoint(self,x,y):\n",
    "        return not ((pow(y,2,self.p) - (pow(x,3,self.p) + self.a*x + self.b)) % self.p)\n",
    "        \n",
    "    def toProjective(self):\n",
    "        return ProjectiveCurve(self.a,self.b,self.p)\n",
    "    \n",
    "    def toJacobian(self):\n",
    "        return JacobianCurve(self.a,self.b,self.p)\n",
    "    \n",
    "    def toChudnovskyJacobian(self):\n",
    "        return ChudnovskyJacobianCurve(self.a,self.b,self.p)"
   ]
  },
  {
   "cell_type": "markdown",
   "id": "be4a3507-6728-4552-ba9d-8c5d6fc06769",
   "metadata": {
    "tags": []
   },
   "source": [
    "## Асcоциативность, коммутативность"
   ]
  },
  {
   "cell_type": "code",
   "execution_count": 6,
   "id": "7a5fcb89-99a5-4695-88ce-b060916a7882",
   "metadata": {},
   "outputs": [
    {
     "name": "stdout",
     "output_type": "stream",
     "text": [
      "Ассоциативность:  True\n",
      "Коммутативность:  True\n"
     ]
    }
   ],
   "source": [
    "a = randint(-1000,1000)\n",
    "b = randint(-1000,1000)\n",
    "p = randprime(1<<16, 1<<17)\n",
    "ec1 = Curve(a,b,p)\n",
    "p1 = ec1.findRandomPoint()\n",
    "p2 = ec1.findRandomPoint()\n",
    "p3 = ec1.findRandomPoint()\n",
    "print(\"Ассоциативность: \", (p1 + p2) + p3 == p1 + (p2 + p3))\n",
    "print(\"Коммутативность: \", p1 + p2 == p2 + p1)"
   ]
  },
  {
   "cell_type": "markdown",
   "id": "3b5fd13c-7c07-43f6-8e1c-65716d7b9e51",
   "metadata": {
    "tags": []
   },
   "source": [
    "# Проективные координаты"
   ]
  },
  {
   "cell_type": "markdown",
   "id": "375d5e8c-f606-4410-84fa-84b4b5cda01e",
   "metadata": {},
   "source": [
    "## Реализация"
   ]
  },
  {
   "cell_type": "code",
   "execution_count": 7,
   "id": "02e0fad4-a8b3-4665-b4e2-2145898e43a3",
   "metadata": {},
   "outputs": [],
   "source": [
    "class ProjectiveCurve:\n",
    "    def __init__(self, a, b, p):\n",
    "        if D(a,b) % p: \n",
    "            self.a = a % p\n",
    "            self.b = b % p\n",
    "            self.p = p\n",
    "        else:\n",
    "            print(\"Ошибка! Дискриминант кривой нулевой!\")\n",
    "    \n",
    "    def __eq__(self, other):\n",
    "        if isinstance(other, self.__class__):\n",
    "            return (self.a == other.a) and (self.b == other.b) and (self.p == other.p)\n",
    "        else:\n",
    "            return False\n",
    "    \n",
    "    def findRandomPoint(self):\n",
    "        while True:\n",
    "            x = randint(0, self.p - 1)\n",
    "            y = randint(0, self.p - 1)\n",
    "            z = randint(1, self.p - 1)\n",
    "            if not ((pow(y,2,self.p)*z - (pow(x,3,self.p) + self.a*x*pow(z,2,self.p) + self.b*pow(z,3,self.p))) % self.p):\n",
    "                return ProjectivePoint(x,y,z,self)\n",
    "            \n",
    "    def findPoints(self):\n",
    "        points = []\n",
    "        for x in range(self.p):\n",
    "            for y in range(self.p):\n",
    "                for z in range(1, self.p):\n",
    "                    if not((pow(y,2,self.p)*z - (pow(x,3,self.p) + self.a*x*pow(z,2,self.p) + self.b*pow(z,3,self.p))) % self.p):\n",
    "                        if ProjectivePoint(x,y,z, self) not in points:\n",
    "                            points.append(ProjectivePoint(x,y,z, self))\n",
    "        points.append(ProjectivePoint(0,1,0,self))\n",
    "        return points\n",
    "\n",
    "    def isPoint(self,x,y,z):\n",
    "        return not ((pow(y,2,self.p)*z - (pow(x,3,self.p) + self.a*x*pow(z,2,self.p) + self.b*pow(z,3,self.p))) % self.p)\n",
    "        \n",
    "    def toAffine(self):\n",
    "        return Curve(self.a,self.b,self.p)"
   ]
  },
  {
   "cell_type": "code",
   "execution_count": 8,
   "id": "f12e8fa2-e80c-439e-9174-fc683a186099",
   "metadata": {},
   "outputs": [],
   "source": [
    "class ProjectivePoint:\n",
    "    def __init__(self,x,y,z, curve, secure = True):\n",
    "        self.curve = curve\n",
    "        x %= self.curve.p\n",
    "        y %= self.curve.p\n",
    "        z %= self.curve.p\n",
    "        if not secure:\n",
    "            if not self.curve.isPoint(x,y,z):\n",
    "                print(x,y,z)\n",
    "                print(\"Ошибка! Точка не лежит на кривой!\")\n",
    "                secure = False\n",
    "            else:\n",
    "                secure = True\n",
    "        if secure:\n",
    "            self.x = x \n",
    "            self.y = y \n",
    "            self.z = z \n",
    "            \n",
    "    def __eq__(self, other):\n",
    "        if isinstance(other, self.__class__):\n",
    "            return (self.curve == other.curve) and (not ((self.x*other.y - self.y*other.x)) % self.curve.p) and (not ((self.y*other.z-self.z*other.y))% self.curve.p)\n",
    "        else:\n",
    "            return False\n",
    "        \n",
    "    def __repr__(self):\n",
    "        return f\"({self.x}, {self.y}, {self.z})\"\n",
    "    \n",
    "    def __neg__(self):\n",
    "        return ProjectivePoint(self.x, -self.y, self.z, self.curve)\n",
    "    \n",
    "    def doubling(self):\n",
    "        y1 = self.y\n",
    "        x1 = self.x\n",
    "        z1 = self.z\n",
    "        if y1 == 0:\n",
    "                return ProjectivePoint(0,1,0,self.curve)\n",
    "        w = (self.curve.a*z1*z1 % self.curve.p + 3*x1*x1 % self.curve.p) % self.curve.p             \n",
    "        s = y1*z1 % self.curve.p   \n",
    "        s2 = s*s % self.curve.p\n",
    "        s3 = s2*s % self.curve.p\n",
    "        B = x1*y1*s % self.curve.p     \n",
    "        h = w*w % self.curve.p - 8*B\n",
    "        x3 = 2*h*s \n",
    "        y3 = w*(4*B - h) - 8*(y1*y1 % self.curve.p)*s2\n",
    "        z3 = 8*s3\n",
    "        return ProjectivePoint(x3,y3,z3, self.curve)\n",
    "    \n",
    "    def __add__(self, P):\n",
    "        y1 = self.y\n",
    "        x1 = self.x\n",
    "        z1 = self.z\n",
    "        y2 = P.y\n",
    "        x2 = P.x\n",
    "        z2 = P.z\n",
    "        if z1 == 0:\n",
    "            return P\n",
    "        elif z2 == 0:\n",
    "            return self\n",
    "        if P == self:\n",
    "            if y1 == 0:\n",
    "                return ProjectivePoint(0,1,0,self.curve)\n",
    "            w = (self.curve.a*z1*z1 % self.curve.p + 3*x1*x1 % self.curve.p) % self.curve.p             \n",
    "            s = y1*z1 % self.curve.p   \n",
    "            s2 = s*s % self.curve.p\n",
    "            s3 = s2*s % self.curve.p\n",
    "            B = x1*y1*s % self.curve.p     \n",
    "            h = w*w % self.curve.p - 8*B\n",
    "            x3 = 2*h*s \n",
    "            y3 = w*(4*B - h) - 8*(y1*y1 % self.curve.p)*s2\n",
    "            z3 = 8*s3\n",
    "            return ProjectivePoint(x3,y3,z3, self.curve)\n",
    "        \n",
    "        v = x2*z1 - x1*z2 % self.curve.p\n",
    "        v2 = v*v % self.curve.p\n",
    "        v3 = v2*v % self.curve.p\n",
    "        u = y2*z1 - y1*z2 % self.curve.p\n",
    "        u2 = u*u % self.curve.p\n",
    "        A = u2*z1*z2 - v3 - 2*v2*x1*z2 % self.curve.p     \n",
    "        x3 = v*A\n",
    "        y3 = u*(v2*x1*z2 - A) - v3*y1*z2\n",
    "        z3 = v3*z1*z2\n",
    "        return ProjectivePoint(x3,y3,z3, self.curve)\n",
    "        \n",
    "    def __sub__(self,P):\n",
    "        return self + (-P)\n",
    "    \n",
    "    def toAffine(self):\n",
    "        curve = self.curve.toAffine()\n",
    "        if self.z == 0:\n",
    "            return infPoint(curve)\n",
    "        return Point(self.x*pow(self.z, -1, self.curve.p), self.y*pow(self.z, -1, self.curve.p), curve)\n",
    "    \n",
    "    def __mul__(self, m):\n",
    "        if isinstance(m, int):\n",
    "            if m < 0:\n",
    "                m = -m\n",
    "                self = -self\n",
    "                \n",
    "            m = bin(m)[2:]\n",
    "            result = ProjectivePoint(0,1,0,self.curve)\n",
    "            Q = self\n",
    "            for i in m[::-1]:\n",
    "                if i == \"1\":\n",
    "                    result = result + Q\n",
    "                Q += Q\n",
    "            return result\n",
    "        else:\n",
    "            return f\"{m} должно быть целым числом\"\n",
    "        \n",
    "    def __rmul__(self,m):\n",
    "        return self*m"
   ]
  },
  {
   "cell_type": "markdown",
   "id": "b7424738-5a65-4d21-a559-1e17850195a1",
   "metadata": {},
   "source": [
    "## Асcоциативность, коммутативность"
   ]
  },
  {
   "cell_type": "code",
   "execution_count": 9,
   "id": "085e2836-47de-4b58-946c-09715fe8fe0a",
   "metadata": {},
   "outputs": [
    {
     "name": "stdout",
     "output_type": "stream",
     "text": [
      "Ассоциативность:  True\n",
      "Коммутативность:  True\n"
     ]
    }
   ],
   "source": [
    "a = randint(-1000,100)\n",
    "b = randint(-100,1000)\n",
    "p = randprime(1<<12, 1<<13)\n",
    "pc1 = ProjectiveCurve(a,b,p)\n",
    "pp1 = pc1.findRandomPoint()\n",
    "pp2 = pc1.findRandomPoint()\n",
    "pp3 = pc1.findRandomPoint()\n",
    "print(\"Ассоциативность: \", (pp1 + pp2) + pp3 == pp1 + (pp2 + pp3))\n",
    "print(\"Коммутативность: \", pp1 + pp2 == pp2 + pp1)"
   ]
  },
  {
   "cell_type": "markdown",
   "id": "650ae1e2-b721-4bf9-9dc2-a833718d841c",
   "metadata": {
    "tags": []
   },
   "source": [
    "## Другие тесты"
   ]
  },
  {
   "cell_type": "code",
   "execution_count": 10,
   "id": "0566c13c-ec30-4071-8e12-091d4fd0d745",
   "metadata": {},
   "outputs": [
    {
     "name": "stdout",
     "output_type": "stream",
     "text": [
      "True\n"
     ]
    },
    {
     "data": {
      "text/plain": [
       "True"
      ]
     },
     "execution_count": 10,
     "metadata": {},
     "output_type": "execute_result"
    }
   ],
   "source": [
    "a = randint(-1000,100)\n",
    "b = randint(-100,1000)\n",
    "p = randprime(1<<12, 1<<13)\n",
    "pc1 = ProjectiveCurve(a,b,p)\n",
    "ec1 = pc1.toAffine()\n",
    "pp1 = pc1.findRandomPoint()\n",
    "p1 = pp1.toAffine()\n",
    "\n",
    "print((p1*b).toProjective() == pp1*b)\n",
    "(pp1*a).toAffine() == p1*a # методы перевода"
   ]
  },
  {
   "cell_type": "code",
   "execution_count": 11,
   "id": "48502551-0b72-4068-abcd-2a279d29548b",
   "metadata": {},
   "outputs": [],
   "source": [
    "a = randint(-100,100)\n",
    "b = randint(-100,100)\n",
    "p = randprime(1<<5, 1<<6)\n",
    "pc1 = ProjectiveCurve(a,b,p)\n",
    "ec1 = pc1.toAffine()"
   ]
  },
  {
   "cell_type": "code",
   "execution_count": 12,
   "id": "f64d33e0-5de8-4f3e-9a39-af1a9adb93c4",
   "metadata": {},
   "outputs": [
    {
     "data": {
      "text/plain": [
       "True"
      ]
     },
     "execution_count": 12,
     "metadata": {},
     "output_type": "execute_result"
    }
   ],
   "source": [
    "pc1 = ProjectiveCurve(2,5,17)\n",
    "ppp1 = ProjectivePoint(1,3,7,pc1)\n",
    "ppp2 = ProjectivePoint(2,6,14,pc1)\n",
    "ppp1 == ppp2 # эквивалентность точек"
   ]
  },
  {
   "cell_type": "markdown",
   "id": "06b88656-1816-4293-a1d6-fe2b6da6539f",
   "metadata": {
    "tags": []
   },
   "source": [
    "# Координаты Якоби"
   ]
  },
  {
   "cell_type": "markdown",
   "id": "04badbd1-1f29-47b2-bcdc-b160404c810b",
   "metadata": {},
   "source": [
    "## Реализация"
   ]
  },
  {
   "cell_type": "code",
   "execution_count": 13,
   "id": "7a95e76c-70ac-44ec-bb94-aedf25b32d07",
   "metadata": {},
   "outputs": [],
   "source": [
    "class JacobianCurve:\n",
    "    def __init__(self, a, b, p):\n",
    "        if D(a,b) % p: \n",
    "            self.a = a % p\n",
    "            self.b = b % p\n",
    "            self.p = p\n",
    "        else:\n",
    "            print(\"Ошибка! Дискриминант кривой нулевой!\")\n",
    "    \n",
    "    def __eq__(self, other):\n",
    "        if isinstance(other, self.__class__):\n",
    "            return (self.a == other.a) and (self.b == other.b) and (self.p == other.p)\n",
    "        else:\n",
    "            return False\n",
    "    \n",
    "    def findRandomPoint(self):\n",
    "        while True:\n",
    "            x = randint(0, self.p - 1)\n",
    "            y = randint(0, self.p - 1)\n",
    "            z = randint(1, self.p - 1)\n",
    "            if not ((pow(y,2,self.p) - (pow(x,3,self.p) + self.a*x*pow(z,4,self.p) + self.b*pow(z,6,self.p))) % self.p):\n",
    "                return JacobianPoint(x,y,z,self)\n",
    "            \n",
    "    def findPoints(self):\n",
    "        points = []\n",
    "        for x in range(self.p):\n",
    "            for y in range(self.p):\n",
    "                for z in range(1,self.p):\n",
    "                    if not((pow(y,2,self.p) - (pow(x,3,self.p) + self.a*x*pow(z,4,self.p) + self.b*pow(z,6,self.p))) % self.p):\n",
    "                        if JacobianPoint(x,y,z, self) not in points:\n",
    "                            points.append(JacobianPoint(x,y,z, self))\n",
    "        points.append(JacobianPoint(1,1,0,self))\n",
    "        return points\n",
    "\n",
    "    def isPoint(self,x,y,z):\n",
    "        return not ((pow(y,2,self.p) - (pow(x,3,self.p) + self.a*x*pow(z,4,self.p) + self.b*pow(z,6,self.p))) % self.p)\n",
    "    \n",
    "    def toAffine(self):\n",
    "        return Curve(self.a,self.b,self.p)"
   ]
  },
  {
   "cell_type": "code",
   "execution_count": 14,
   "id": "618c4c6a-aeef-419f-86f1-34908a2623d9",
   "metadata": {},
   "outputs": [],
   "source": [
    "class JacobianPoint:\n",
    "    def __init__(self,x,y,z, curve, secure = True):\n",
    "        self.curve = curve\n",
    "        x %= self.curve.p\n",
    "        y %= self.curve.p\n",
    "        z %= self.curve.p\n",
    "        if not secure:\n",
    "            if (not self.curve.isPoint(x,y,z)) and z != 0:\n",
    "                print(x,y,z)\n",
    "                print(\"Ошибка! Точка не лежит на кривой!\")\n",
    "                secure = False\n",
    "            else:\n",
    "                secure = True\n",
    "        if secure:\n",
    "            self.x = x \n",
    "            self.y = y \n",
    "            self.z = z \n",
    "            \n",
    "    def __eq__(self, other):\n",
    "        if isinstance(other, self.__class__):\n",
    "            return (self.curve == other.curve) and not ((self.x*other.z**2 - other.x*self.z**2) % self.curve.p) and not ((self.y*other.z**3 - self.z**3*other.y) % self.curve.p)\n",
    "        else:\n",
    "            return False\n",
    "        \n",
    "    def __repr__(self):\n",
    "        return f\"({self.x}, {self.y}, {self.z})\"\n",
    "    \n",
    "    def __neg__(self):\n",
    "        return JacobianPoint(self.x, -self.y, self.z, self.curve)\n",
    "    \n",
    "    def doubling(self):\n",
    "        y1 = self.y\n",
    "        x1 = self.x\n",
    "        z1 = self.z\n",
    "        zz1 = z1*z1 % self.curve.p\n",
    "        zzz1 = zz1*z1 % self.curve.p\n",
    "        if y1 == 0:\n",
    "            return JacobianPoint(1,1,0,self.curve)\n",
    "        y12 = y1*y1 % self.curve.p\n",
    "        S = 4*x1*y12  % self.curve.p\n",
    "        M = (3*x1*x1 % self.curve.p + self.curve.a*zzz1*z1 % self.curve.p)  % self.curve.p\n",
    "        T = (M*M % self.curve.p - 2*S) % self.curve.p\n",
    "        x3 = T \n",
    "        y3 = M*(S-T) - 8*(y12*y12 % self.curve.p)\n",
    "        z3 = 2*y1*z1  \n",
    "        return JacobianPoint(x3,y3,z3, self.curve)\n",
    "    \n",
    "    def __add__(self, P):\n",
    "        y1 = self.y\n",
    "        x1 = self.x\n",
    "        z1 = self.z\n",
    "        y2 = P.y\n",
    "        x2 = P.x\n",
    "        z2 = P.z\n",
    "        if z1 == 0:\n",
    "            return P\n",
    "        if z2 == 0:\n",
    "            return self\n",
    "        \n",
    "        zz2 = z2*z2 % self.curve.p\n",
    "        zz1 = z1*z1 % self.curve.p\n",
    "        zzz2 = zz2 * z2 % self.curve.p\n",
    "        zzz1 = zz1*z1 % self.curve.p\n",
    "        if (self.curve == P.curve) and not ((x1*zz2 - x2*zz1) % self.curve.p) and not ((y1*zzz2 - zzz1*y2) % self.curve.p):\n",
    "            if y1 == 0:\n",
    "                return JacobianPoint(1,1,0,self.curve)\n",
    "            y12 = y1*y1 % self.curve.p\n",
    "            S = 4*x1*y12  % self.curve.p\n",
    "            M = (3*x1*x1 % self.curve.p + self.curve.a*zz1*zz1 % self.curve.p)  % self.curve.p\n",
    "            T = (M*M % self.curve.p - 2*S) % self.curve.p\n",
    "            x3 = T \n",
    "            y3 = M*(S-T) - 8*(y12*y12 % self.curve.p)\n",
    "            z3 = 2*y1*z1  \n",
    "            return JacobianPoint(x3,y3,z3, self.curve)\n",
    "        \n",
    "        U1 = x1*zz2 % self.curve.p\n",
    "        U2 = x2*zz1 % self.curve.p\n",
    "        S1 = y1*zzz2 % self.curve.p\n",
    "        S2 = y2*zzz1 % self.curve.p\n",
    "        H = U2 - U1\n",
    "        H2 = H*H % self.curve.p\n",
    "        H3 = H2*H % self.curve.p\n",
    "        r = S2 - S1\n",
    "        r2 = r*r % self.curve.p\n",
    "        \n",
    "        x3 = r2 - H3 - 2*U1*H2\n",
    "        y3 = r*(U1*H2 % self.curve.p - x3) - S1*H3\n",
    "        z3 = z1*z2*H \n",
    "        return JacobianPoint(x3,y3,z3, self.curve)\n",
    "        \n",
    "    def __sub__(self,P):\n",
    "        return self + (-P)\n",
    "    \n",
    "    def toAffine(self):\n",
    "        curve = self.curve.toAffine()\n",
    "        if self.z == 0:\n",
    "            return infPoint(curve)\n",
    "        return Point(self.x*pow(self.z*self.z % self.curve.p,-1, self.curve.p),self.y*pow(self.z*self.z*self.z % self.curve.p,-1, self.curve.p), curve)\n",
    "    \n",
    "    def __mul__(self, m):\n",
    "        if isinstance(m, int):\n",
    "            if m < 0:\n",
    "                m = -m\n",
    "                self = -self\n",
    "                \n",
    "            m = bin(m)[2:]\n",
    "            result = JacobianPoint(1,1,0,self.curve)\n",
    "            Q = self\n",
    "            for i in m[::-1]:\n",
    "                if i == \"1\":\n",
    "                    result = result + Q\n",
    "                Q += Q\n",
    "            return result\n",
    "        else:\n",
    "            return f\"{m} должно быть целым числом\"\n",
    "        \n",
    "    def __rmul__(self,m):\n",
    "        return self*m"
   ]
  },
  {
   "cell_type": "markdown",
   "id": "566a8211-4ce3-4f8f-9eee-ccbb03de9ff0",
   "metadata": {
    "tags": []
   },
   "source": [
    "## Асcоциативность, коммутативность"
   ]
  },
  {
   "cell_type": "code",
   "execution_count": 15,
   "id": "d4fa9e16-4ac9-4639-9210-f206583b9adc",
   "metadata": {},
   "outputs": [
    {
     "name": "stdout",
     "output_type": "stream",
     "text": [
      "Ассоциативность:  True\n",
      "Коммутативность:  True\n"
     ]
    }
   ],
   "source": [
    "a = randint(-1000,100)\n",
    "b = randint(-100,1000)\n",
    "p = randprime(1<<12, 1<<13)\n",
    "jc1 = JacobianCurve(a,b,p)\n",
    "jp1 = jc1.findRandomPoint()\n",
    "jp2 = jc1.findRandomPoint()\n",
    "jp3 = jc1.findRandomPoint()\n",
    "print(\"Ассоциативность: \", (jp1 + jp2) + jp3 == jp1 + (jp2 + jp3))\n",
    "print(\"Коммутативность: \", jp1 + jp2 == jp2 + jp1)"
   ]
  },
  {
   "cell_type": "markdown",
   "id": "0d1d848e-c536-448a-a9f3-8fa42555f2b2",
   "metadata": {
    "tags": []
   },
   "source": [
    "## Другие тесты"
   ]
  },
  {
   "cell_type": "code",
   "execution_count": 16,
   "id": "82df84ea-9cad-4be7-b1ad-2d1e6d848755",
   "metadata": {},
   "outputs": [
    {
     "name": "stdout",
     "output_type": "stream",
     "text": [
      "True\n"
     ]
    },
    {
     "data": {
      "text/plain": [
       "True"
      ]
     },
     "execution_count": 16,
     "metadata": {},
     "output_type": "execute_result"
    }
   ],
   "source": [
    "a = randint(-1000,100)\n",
    "b = randint(-100,1000)\n",
    "p = randprime(1<<12, 1<<13)\n",
    "jc1 = JacobianCurve(a,b,p)\n",
    "ec1 = jc1.toAffine()\n",
    "jp1 = jc1.findRandomPoint()\n",
    "p1 = jp1.toAffine()\n",
    "print((p1*b).toJacobian() == jp1*b)\n",
    "(jp1*a).toAffine() == p1*a # методы перевода"
   ]
  },
  {
   "cell_type": "markdown",
   "id": "06285299-801c-4465-918f-51d2dc5fc61c",
   "metadata": {
    "tags": []
   },
   "source": [
    "# Обобщенные координаты Якоби"
   ]
  },
  {
   "cell_type": "markdown",
   "id": "247f939e-f33b-419a-a99e-18f27cbf7e87",
   "metadata": {
    "tags": []
   },
   "source": [
    "## Реализация"
   ]
  },
  {
   "cell_type": "code",
   "execution_count": 17,
   "id": "d1a3fd78-381a-47be-b7c0-3cb9c1bb892c",
   "metadata": {},
   "outputs": [],
   "source": [
    "class ChudnovskyJacobianPoint:            \n",
    "    def __init__(self,x,y,z,zz,zzz,curve, secure = True):\n",
    "        self.curve = curve\n",
    "        x = x % self.curve.p\n",
    "        y = y % self.curve.p\n",
    "        z = z % self.curve.p\n",
    "        zz = zz % self.curve.p\n",
    "        zzz = zzz % self.curve.p\n",
    "        if not secure:\n",
    "            if (not self.curve.isPoint(x,y,z,zz,zzz)) and z != 0:\n",
    "                print(x,y,z,zz,zzz)\n",
    "                print(\"Ошибка! Точка не лежит на кривой!\")\n",
    "                secure = False\n",
    "            else:\n",
    "                secure = True\n",
    "        if secure:\n",
    "            self.x = x\n",
    "            self.y = y \n",
    "            self.z = z \n",
    "            self.zz = zz\n",
    "            self.zzz = zzz     \n",
    "            \n",
    "    def __eq__(self, other): \n",
    "        if isinstance(other, self.__class__):\n",
    "            return (self.curve == other.curve) and not ((self.x*other.zz - other.x*self.zz) % self.curve.p) and not ((self.y*other.zzz - self.zzz*other.y) % self.curve.p)\n",
    "        else:\n",
    "            return False\n",
    "        \n",
    "    def __repr__(self):\n",
    "        return f\"({self.x}, {self.y}, {self.z}, {self.zz}, {self.zzz})\"\n",
    "    \n",
    "    def __neg__(self):\n",
    "        return  ChudnovskyJacobianPoint(self.x, -self.y, self.z, self.zz, self.zzz, self.curve)\n",
    "    \n",
    "    def doubling(self):\n",
    "        y1 = self.y\n",
    "        x1 = self.x\n",
    "        z1 = self.z\n",
    "        zz1 = self.zz\n",
    "        zzz1 = self.zzz\n",
    "        if y1 == 0:\n",
    "                return ChudnovskyJacobianPoint(0,1,0,0,0, self.curve)\n",
    "        y12 = y1*y1 % self.curve.p\n",
    "        S = 4*x1*y12  % self.curve.p\n",
    "        M = (3*(x1*x1 % self.curve.p) + self.curve.a*(zz1*zz1 % self.curve.p)) \n",
    "        T = (M*M - 2*S)  % self.curve.p\n",
    "        x3 = T\n",
    "        y3 = M*(S-T) - 8*(y12*y12 % self.curve.p)  \n",
    "        z3 = 2*y1*z1  % self.curve.p\n",
    "        zz3 = z3*z3 % self.curve.p\n",
    "        zzz3 = zz3*z3\n",
    "        return ChudnovskyJacobianPoint(x3,y3,z3,zz3,zzz3, self.curve)\n",
    "    \n",
    "    def __add__(self, P):\n",
    "        y1 = self.y\n",
    "        x1 = self.x\n",
    "        z1 = self.z\n",
    "        zz1 = self.zz\n",
    "        zzz1 = self.zzz\n",
    "        y2 = P.y\n",
    "        x2 = P.x\n",
    "        z2 = P.z\n",
    "        zz2 = P.zz\n",
    "        zzz2 = P.zzz\n",
    "        \n",
    "        if z1 == 0:\n",
    "            return P\n",
    "        if z2 == 0:\n",
    "            return self\n",
    "        if P == self:\n",
    "            if y1 == 0:\n",
    "                return ChudnovskyJacobianPoint(0,1,0,0,0, self.curve)\n",
    "            y12 = y1*y1 % self.curve.p\n",
    "            S = 4*x1*y12  % self.curve.p\n",
    "            M = (3*(x1*x1 % self.curve.p) + self.curve.a*(zz1*zz1 % self.curve.p)) \n",
    "            T = (M*M - 2*S)  % self.curve.p\n",
    "            x3 = T\n",
    "            y3 = M*(S-T) - 8*(y12*y12 % self.curve.p)  \n",
    "            z3 = 2*y1*z1  % self.curve.p\n",
    "            zz3 = z3*z3 % self.curve.p\n",
    "            zzz3 = zz3*z3\n",
    "            return ChudnovskyJacobianPoint(x3,y3,z3,zz3,zzz3, self.curve)\n",
    "        \n",
    "        U1 = x1*zz2 % self.curve.p\n",
    "        U2 = x2*zz1 % self.curve.p\n",
    "        S1 = y1*zzz2 % self.curve.p\n",
    "        S2 = y2*zzz1 % self.curve.p\n",
    "        H = U2 - U1\n",
    "        H2 = H*H % self.curve.p\n",
    "        H3 = H2*H % self.curve.p\n",
    "        r = S2 - S1\n",
    "        r2 = r*r % self.curve.p\n",
    "        \n",
    "        x3 = r2 - 2*U1*H2 - H3\n",
    "        y3 = r*(U1*H2 - x3) - S1*H3\n",
    "        z3 = z1*z2*H % self.curve.p\n",
    "        zz3 = z3*z3 % self.curve.p\n",
    "        zzz3 = zz3*z3\n",
    "        return ChudnovskyJacobianPoint(x3,y3,z3,zz3,zzz3, self.curve)\n",
    "        \n",
    "    def __sub__(self,P):\n",
    "        return self + (-P)\n",
    "    \n",
    "    def toAffine(self):\n",
    "        curve = self.curve.toAffine()\n",
    "        if self.z == 0:\n",
    "            return infPoint(curve)\n",
    "        return Point(self.x*pow(self.zz,-1, self.curve.p),self.y*pow(self.zzz,-1, self.curve.p), curve)\n",
    "    \n",
    "    def __mul__(self, m):\n",
    "        if isinstance(m, int):\n",
    "            if m < 0:\n",
    "                m = -m\n",
    "                self = -self\n",
    "                \n",
    "            m = bin(m)[2:]\n",
    "            result = ChudnovskyJacobianPoint(0,1,0,0,0,self.curve)\n",
    "            Q = self\n",
    "            for i in m[::-1]:\n",
    "                if i == \"1\":\n",
    "                    result = result + Q\n",
    "                Q += Q\n",
    "            return result\n",
    "        else:\n",
    "            return f\"{m} должно быть целым числом\"\n",
    "        \n",
    "    def __rmul__(self,m):\n",
    "        return self*m"
   ]
  },
  {
   "cell_type": "code",
   "execution_count": 18,
   "id": "4552ecad-44cf-49f7-a3a7-f4822f3a80a0",
   "metadata": {},
   "outputs": [],
   "source": [
    "class ChudnovskyJacobianCurve():\n",
    "    def __init__(self, a, b, p):\n",
    "        if D(a,b) % p: \n",
    "            self.a = a % p\n",
    "            self.b = b % p\n",
    "            self.p = p\n",
    "        else:\n",
    "            print(\"Ошибка! Дискриминант кривой нулевой!\")\n",
    "    \n",
    "    def __eq__(self, other):\n",
    "        if isinstance(other, self.__class__):\n",
    "            return (self.a == other.a) and (self.b == other.b) and (self.p == other.p)\n",
    "        else:\n",
    "            return False\n",
    "        \n",
    "    def findRandomPoint(self):\n",
    "        while True:\n",
    "            x = randint(0, self.p - 1)\n",
    "            y = randint(0, self.p - 1)\n",
    "            z = randint(1, self.p - 1)\n",
    "            zz = pow(z,2, self.p)\n",
    "            zzz = z*zz % self.p\n",
    "            if not ((pow(y,2,self.p) - (pow(x,3,self.p) + self.a*x*pow(zz,2,self.p) + self.b*pow(zzz,2,self.p))) % self.p):\n",
    "                return ChudnovskyJacobianPoint(x,y,z, zz, zzz, self)\n",
    "            \n",
    "    def findPoints(self):\n",
    "        points = []\n",
    "        for x in range(self.p):\n",
    "            for y in range(self.p):\n",
    "                for z in range(1,self.p):\n",
    "                    zz = pow(z,2, self.p)\n",
    "                    zzz = z*zz % self.p\n",
    "                    if not ((pow(y,2,self.p) - (pow(x,3,self.p) + self.a*x*pow(zz,2,self.p) + self.b*pow(zzz,2,self.p))) % self.p):\n",
    "                        if ChudnovskyJacobianPoint(x,y,z,zz,zzz, self) not in points:\n",
    "                            points.append(ChudnovskyJacobianPoint(x,y,z,zz, zzz, self))\n",
    "        points.append(ChudnovskyJacobianPoint(1,1,0,0,0,self))\n",
    "        return points\n",
    "\n",
    "    def isPoint(self,x,y,z,zz,zzz):\n",
    "        return not ((pow(y,2,self.p) - (pow(x,3,self.p) + self.a*x*pow(zz,2,self.p) + self.b*pow(zzz,2,self.p))) % self.p)\n",
    "\n",
    "    def toAffine(self):\n",
    "        return Curve(self.a,self.b,self.p)"
   ]
  },
  {
   "cell_type": "markdown",
   "id": "a5b3c547-b7b0-4226-b670-857bf36354a3",
   "metadata": {
    "tags": []
   },
   "source": [
    "## Асcоциативность, коммутативность"
   ]
  },
  {
   "cell_type": "code",
   "execution_count": 19,
   "id": "3c62b8e2-b277-4293-94a8-a723821662e5",
   "metadata": {},
   "outputs": [
    {
     "name": "stdout",
     "output_type": "stream",
     "text": [
      "Ассоциативность:  True\n",
      "Коммутативность:  True\n"
     ]
    }
   ],
   "source": [
    "a = randint(-1000,100)\n",
    "b = randint(-100,1000)\n",
    "p = randprime(1<<12, 1<<13)\n",
    "cjc1 = ChudnovskyJacobianCurve(a,b,p)\n",
    "cjp1 = cjc1.findRandomPoint()\n",
    "cjp2 = cjc1.findRandomPoint()\n",
    "cjp3 = cjc1.findRandomPoint()\n",
    "print(\"Ассоциативность: \", (cjp1 + cjp2) + cjp3 == cjp1 + (cjp2 + cjp3))\n",
    "print(\"Коммутативность: \", cjp1 + cjp2 == cjp2 + cjp1)"
   ]
  },
  {
   "cell_type": "markdown",
   "id": "4bf1cb7a-4eda-4ad1-a7dc-c256ad119d05",
   "metadata": {
    "tags": []
   },
   "source": [
    "## Другие тесты"
   ]
  },
  {
   "cell_type": "code",
   "execution_count": 20,
   "id": "41e054e9-f08e-433a-ac8c-b15c470c0d17",
   "metadata": {},
   "outputs": [
    {
     "name": "stdout",
     "output_type": "stream",
     "text": [
      "True\n"
     ]
    },
    {
     "data": {
      "text/plain": [
       "True"
      ]
     },
     "execution_count": 20,
     "metadata": {},
     "output_type": "execute_result"
    }
   ],
   "source": [
    "a = randint(-1000,100)\n",
    "b = randint(-100,1000)\n",
    "p = randprime(1<<12, 1<<13)\n",
    "cjc1 = ChudnovskyJacobianCurve(a,b,p)\n",
    "ec1 = cjc1.toAffine()\n",
    "cjp1 = cjc1.findRandomPoint()\n",
    "p1 = cjp1.toAffine()\n",
    "\n",
    "print((p1*b).toChudnovskyJacobian() == cjp1*b)\n",
    "(cjp1*a).toAffine() == p1*a # методы перевода"
   ]
  },
  {
   "cell_type": "markdown",
   "id": "125d520b-711f-4b45-83cb-b5d34a677885",
   "metadata": {},
   "source": [
    "# Скорость вычислений"
   ]
  },
  {
   "cell_type": "code",
   "execution_count": 38,
   "id": "488cc88a-c39b-48e2-8431-fc2764ddfe39",
   "metadata": {},
   "outputs": [],
   "source": [
    "p = 115792089237316195423570985008687907853269984665640564039457584007908834671663\n",
    "a = 0\n",
    "b = 7\n",
    "SECP256k1 = Curve(a, b, p)"
   ]
  },
  {
   "cell_type": "markdown",
   "id": "6de24afc-0813-436d-aad1-c0d9e62e948f",
   "metadata": {},
   "source": [
    "### Удвоение точки"
   ]
  },
  {
   "cell_type": "code",
   "execution_count": 57,
   "id": "65d24a8d-aa12-4aa8-954e-fb471aee9b2a",
   "metadata": {},
   "outputs": [],
   "source": [
    "def doubl(P, tries = 10):\n",
    "    for _ in range(tries):\n",
    "        P = P.doubling()\n",
    "    return P"
   ]
  },
  {
   "cell_type": "code",
   "execution_count": 58,
   "id": "3d713d18-ea7c-43f2-bb65-72f5d4a3c662",
   "metadata": {},
   "outputs": [],
   "source": [
    "p1 = SECP256k1.findRandomPoint()\n",
    "pp1 = p1.toProjective()\n",
    "jp1 = p1.toJacobian()\n",
    "cjp1 = p1.toChudnovskyJacobian()"
   ]
  },
  {
   "cell_type": "code",
   "execution_count": 59,
   "id": "4cf8d507-892f-44ce-8739-8bb8790ce409",
   "metadata": {},
   "outputs": [
    {
     "name": "stdout",
     "output_type": "stream",
     "text": [
      "Аффинные координаты:--- 22.50896120071411 seconds ---\n",
      "Проективные координаты:--- 5.310141324996948 seconds ---\n",
      "Координаты Якоби:--- 5.354511976242065 seconds ---\n",
      "Обобщенные координаты Якоби:--- 5.073979139328003 seconds ---\n"
     ]
    }
   ],
   "source": [
    "tries = 2**19\n",
    "\n",
    "start_time = time.time()\n",
    "doubl(p1, tries)\n",
    "print(\"Аффинные координаты:--- %s seconds ---\" % (time.time() - start_time))\n",
    "\n",
    "start_time = time.time()\n",
    "doubl(pp1, tries).toAffine()\n",
    "print(\"Проективные координаты:--- %s seconds ---\" % (time.time() - start_time))\n",
    "\n",
    "start_time = time.time()\n",
    "doubl(jp1, tries).toAffine()\n",
    "print(\"Координаты Якоби:--- %s seconds ---\" % (time.time() - start_time))\n",
    "\n",
    "start_time = time.time()\n",
    "doubl(cjp1, tries).toAffine()\n",
    "print(\"Обобщенные координаты Якоби:--- %s seconds ---\" % (time.time() - start_time))"
   ]
  },
  {
   "cell_type": "code",
   "execution_count": 25,
   "id": "4bf9fd67-cd53-4f0d-8ab4-469ba5ac9b8a",
   "metadata": {},
   "outputs": [],
   "source": [
    "p1 = SECP256k1.findRandomPoint()\n",
    "pp1 = p1.toProjective()\n",
    "jp1 = p1.toJacobian()\n",
    "cjp1 = p1.toChudnovskyJacobian()"
   ]
  },
  {
   "cell_type": "code",
   "execution_count": 26,
   "id": "a3cdb616-a92b-46e5-8ea2-aee793be5b49",
   "metadata": {},
   "outputs": [
    {
     "name": "stdout",
     "output_type": "stream",
     "text": [
      "Проективные координаты:--- 10.578265905380249 seconds ---\n",
      "Координаты Якоби:--- 9.88436222076416 seconds ---\n",
      "Обобщенные координаты Якоби:--- 10.90627670288086 seconds ---\n"
     ]
    }
   ],
   "source": [
    "tries = 2**20\n",
    "\n",
    "start_time = time.time()\n",
    "doubl(pp1, tries).toAffine()\n",
    "print(\"Проективные координаты:--- %s seconds ---\" % (time.time() - start_time))\n",
    "\n",
    "start_time = time.time()\n",
    "doubl(jp1, tries).toAffine()\n",
    "print(\"Координаты Якоби:--- %s seconds ---\" % (time.time() - start_time))\n",
    "\n",
    "start_time = time.time()\n",
    "doubl(cjp1, tries).toAffine()\n",
    "print(\"Обобщенные координаты Якоби:--- %s seconds ---\" % (time.time() - start_time))"
   ]
  },
  {
   "cell_type": "markdown",
   "id": "0a3a7f33-ffd9-4bdb-9ec4-cf54e4b28aca",
   "metadata": {},
   "source": [
    "### Сложение (предположительно) различных точек"
   ]
  },
  {
   "cell_type": "code",
   "execution_count": 62,
   "id": "4d5f4619-af6e-43fe-9664-d445251000c0",
   "metadata": {},
   "outputs": [],
   "source": [
    "def addition(P, Q, tries = 10):\n",
    "    for _ in range(tries):\n",
    "        P = P + Q\n",
    "        Q = Q + P"
   ]
  },
  {
   "cell_type": "code",
   "execution_count": 63,
   "id": "397f2c3f-bb84-4b36-8883-500648f3a2b9",
   "metadata": {},
   "outputs": [],
   "source": [
    "p1, p2 = SECP256k1.findRandomPoint(), SECP256k1.findRandomPoint()\n",
    "pp1, pp2 = p1.toProjective(), p2.toProjective()\n",
    "jp1, jp2 = p1.toJacobian(), p2.toJacobian()\n",
    "cjp1, cjp2 = p1.toChudnovskyJacobian(), p2.toChudnovskyJacobian()"
   ]
  },
  {
   "cell_type": "code",
   "execution_count": 64,
   "id": "f081d83e-ce39-41af-9ca8-aea1a9852496",
   "metadata": {},
   "outputs": [
    {
     "name": "stdout",
     "output_type": "stream",
     "text": [
      "Аффинные координаты:--- 20.042898654937744 seconds ---\n",
      "Проективные координаты:--- 10.82426643371582 seconds ---\n",
      "Координаты Якоби:--- 9.010782241821289 seconds ---\n",
      "Обобщенные координаты Якоби:--- 8.495838403701782 seconds ---\n"
     ]
    }
   ],
   "source": [
    "tries = 2**18\n",
    "\n",
    "start_time = time.time()\n",
    "addition(p1, p2, tries)\n",
    "print(\"Аффинные координаты:--- %s seconds ---\" % (time.time() - start_time))\n",
    "\n",
    "start_time = time.time()\n",
    "addition(pp1, pp2,  tries)\n",
    "print(\"Проективные координаты:--- %s seconds ---\" % (time.time() - start_time))\n",
    "\n",
    "start_time = time.time()\n",
    "addition(jp1, jp2, tries)\n",
    "print(\"Координаты Якоби:--- %s seconds ---\" % (time.time() - start_time))\n",
    "\n",
    "start_time = time.time()\n",
    "addition(cjp1, cjp2, tries)\n",
    "print(\"Обобщенные координаты Якоби:--- %s seconds ---\" % (time.time() - start_time))"
   ]
  },
  {
   "cell_type": "code",
   "execution_count": 30,
   "id": "dbb3b882-2551-4c71-983e-7fccb7a16e32",
   "metadata": {},
   "outputs": [
    {
     "name": "stdout",
     "output_type": "stream",
     "text": [
      "Проективные координаты:--- 22.997071266174316 seconds ---\n",
      "Координаты Якоби:--- 18.552205085754395 seconds ---\n",
      "Обобщенные координаты Якоби:--- 16.95832586288452 seconds ---\n"
     ]
    }
   ],
   "source": [
    "tries = 2**19\n",
    "\n",
    "start_time = time.time()\n",
    "addition(pp1, pp2,  tries)\n",
    "print(\"Проективные координаты:--- %s seconds ---\" % (time.time() - start_time))\n",
    "\n",
    "start_time = time.time()\n",
    "addition(jp1, jp2, tries)\n",
    "print(\"Координаты Якоби:--- %s seconds ---\" % (time.time() - start_time))\n",
    "\n",
    "start_time = time.time()\n",
    "addition(cjp1, cjp2, tries)\n",
    "print(\"Обобщенные координаты Якоби:--- %s seconds ---\" % (time.time() - start_time))"
   ]
  },
  {
   "cell_type": "markdown",
   "id": "f9e7313b-a64d-48b8-a122-116b2fb59b4c",
   "metadata": {},
   "source": [
    "### Скалярное умножение"
   ]
  },
  {
   "cell_type": "code",
   "execution_count": 31,
   "id": "ad93475c-2bb1-42f5-adc8-2e022dc25fd5",
   "metadata": {},
   "outputs": [
    {
     "data": {
      "text/plain": [
       "'0b11111111111111111111111111111111111111111111111111'"
      ]
     },
     "execution_count": 31,
     "metadata": {},
     "output_type": "execute_result"
    }
   ],
   "source": [
    "a = 2**50-1\n",
    "bin(a)"
   ]
  },
  {
   "cell_type": "code",
   "execution_count": 32,
   "id": "c23c970e-a723-4d71-a4f1-d6eab3715678",
   "metadata": {},
   "outputs": [],
   "source": [
    "p1 = SECP256k1.findRandomPoint()\n",
    "pp1 = p1.toProjective()\n",
    "jp1 = p1.toJacobian()\n",
    "cjp1 = p1.toChudnovskyJacobian()"
   ]
  },
  {
   "cell_type": "code",
   "execution_count": 33,
   "id": "25654642-ec83-4fa8-bab4-8fc7db0d071f",
   "metadata": {},
   "outputs": [
    {
     "name": "stdout",
     "output_type": "stream",
     "text": [
      "Аффинные координаты:--- 4.177379608154297 seconds ---\n",
      "Проективные координаты:--- 2.109037399291992 seconds ---\n",
      "True\n",
      "Координаты Якоби:--- 2.109881639480591 seconds ---\n",
      "True\n",
      "Обобщенные координаты Якоби:--- 1.4714100360870361 seconds ---\n",
      "True\n"
     ]
    }
   ],
   "source": [
    "s = 10\n",
    "start_time = time.time()\n",
    "for _ in range(2**s):\n",
    "    a*p1\n",
    "print(\"Аффинные координаты:--- %s seconds ---\" % (time.time() - start_time))\n",
    "\n",
    "start_time = time.time()\n",
    "for _ in range(2**s):\n",
    "    (a*pp1).toAffine()\n",
    "print(\"Проективные координаты:--- %s seconds ---\" % (time.time() - start_time))\n",
    "print(a*p1 == (a*pp1).toAffine())\n",
    "\n",
    "start_time = time.time()\n",
    "for _ in range(2**s):\n",
    "    (a*jp1).toAffine()\n",
    "print(\"Координаты Якоби:--- %s seconds ---\" % (time.time() - start_time))\n",
    "print(a*p1 == (a*jp1).toAffine())\n",
    "\n",
    "start_time = time.time()\n",
    "for _ in range(2**s):\n",
    "    (a*cjp1).toAffine()\n",
    "print(\"Обобщенные координаты Якоби:--- %s seconds ---\" % (time.time() - start_time))\n",
    "print(a*p1 == (a*cjp1).toAffine())"
   ]
  },
  {
   "cell_type": "code",
   "execution_count": 34,
   "id": "0b6ba168-1393-48c4-b6a4-6d7d58d04a6e",
   "metadata": {},
   "outputs": [
    {
     "data": {
      "text/plain": [
       "'0b1100000100011111001011111011000101101111111100000010011110'"
      ]
     },
     "execution_count": 34,
     "metadata": {},
     "output_type": "execute_result"
    }
   ],
   "source": [
    "p1 = SECP256k1.findRandomPoint()\n",
    "pp1 = p1.toProjective()\n",
    "jp1 = p1.toJacobian()\n",
    "cjp1 = p1.toChudnovskyJacobian()\n",
    "a = randint(2**40,2**60)\n",
    "bin(a)"
   ]
  },
  {
   "cell_type": "code",
   "execution_count": 35,
   "id": "c98e4dcb-e12c-4a8a-ab30-5ebad774b2ca",
   "metadata": {},
   "outputs": [
    {
     "name": "stdout",
     "output_type": "stream",
     "text": [
      "Аффинные координаты:--- 3.729386806488037 seconds ---\n",
      "Проективные координаты:--- 1.835113763809204 seconds ---\n",
      "True\n",
      "Координаты Якоби:--- 1.5577855110168457 seconds ---\n",
      "True\n",
      "Обобщенные координаты Якоби:--- 1.3425955772399902 seconds ---\n",
      "True\n"
     ]
    }
   ],
   "source": [
    "s = 10\n",
    "start_time = time.time()\n",
    "for _ in range(2**s):\n",
    "    a*p1\n",
    "print(\"Аффинные координаты:--- %s seconds ---\" % (time.time() - start_time))\n",
    "\n",
    "start_time = time.time()\n",
    "for _ in range(2**s):\n",
    "    (a*pp1).toAffine()\n",
    "print(\"Проективные координаты:--- %s seconds ---\" % (time.time() - start_time))\n",
    "print(a*p1 == (a*pp1).toAffine())\n",
    "\n",
    "start_time = time.time()\n",
    "for _ in range(2**s):\n",
    "    (a*jp1).toAffine()\n",
    "print(\"Координаты Якоби:--- %s seconds ---\" % (time.time() - start_time))\n",
    "print(a*p1 == (a*jp1).toAffine())\n",
    "\n",
    "start_time = time.time()\n",
    "for _ in range(2**s):\n",
    "    (a*cjp1).toAffine()\n",
    "print(\"Обобщенные координаты Якоби:--- %s seconds ---\" % (time.time() - start_time))\n",
    "print(a*p1 == (a*cjp1).toAffine())"
   ]
  },
  {
   "cell_type": "code",
   "execution_count": 36,
   "id": "f47f32ba-418f-48e8-80ce-cca2e3732c86",
   "metadata": {},
   "outputs": [],
   "source": [
    "p1 = SECP256k1.findRandomPoint()\n",
    "pp1 = p1.toProjective()\n",
    "jp1 = p1.toJacobian()\n",
    "cjp1 = p1.toChudnovskyJacobian()"
   ]
  },
  {
   "cell_type": "code",
   "execution_count": 37,
   "id": "0ca38571-5280-495d-8010-5f1143a082ba",
   "metadata": {},
   "outputs": [
    {
     "name": "stdout",
     "output_type": "stream",
     "text": [
      "Аффинные координаты:--- 3.001615524291992 seconds ---\n",
      "Проективные координаты:--- 1.9091746807098389 seconds ---\n",
      "True\n",
      "Координаты Якоби:--- 1.297048807144165 seconds ---\n",
      "True\n",
      "Обобщенные координаты Якоби:--- 1.173142433166504 seconds ---\n",
      "True\n"
     ]
    }
   ],
   "source": [
    "s = 10\n",
    "start_time = time.time()\n",
    "for _ in range(2**s):\n",
    "    a = randint(2**40,2**50)\n",
    "    a*p1\n",
    "print(\"Аффинные координаты:--- %s seconds ---\" % (time.time() - start_time))\n",
    "\n",
    "start_time = time.time()\n",
    "for _ in range(2**s):\n",
    "    a = randint(2**40,2**50)\n",
    "    (a*pp1).toAffine()\n",
    "print(\"Проективные координаты:--- %s seconds ---\" % (time.time() - start_time))\n",
    "print(a*p1 == (a*pp1).toAffine())\n",
    "\n",
    "start_time = time.time()\n",
    "for _ in range(2**s):\n",
    "    a = randint(2**40,2**50)\n",
    "    (a*jp1).toAffine()\n",
    "print(\"Координаты Якоби:--- %s seconds ---\" % (time.time() - start_time))\n",
    "print(a*p1 == (a*jp1).toAffine())\n",
    "\n",
    "start_time = time.time()\n",
    "for _ in range(2**s):\n",
    "    a = randint(2**40,2**50)\n",
    "    (a*cjp1).toAffine()\n",
    "print(\"Обобщенные координаты Якоби:--- %s seconds ---\" % (time.time() - start_time))\n",
    "print(a*p1 == (a*cjp1).toAffine())"
   ]
  }
 ],
 "metadata": {
  "kernelspec": {
   "display_name": "Python 3 (ipykernel)",
   "language": "python",
   "name": "python3"
  },
  "language_info": {
   "codemirror_mode": {
    "name": "ipython",
    "version": 3
   },
   "file_extension": ".py",
   "mimetype": "text/x-python",
   "name": "python",
   "nbconvert_exporter": "python",
   "pygments_lexer": "ipython3",
   "version": "3.9.7"
  }
 },
 "nbformat": 4,
 "nbformat_minor": 5
}
